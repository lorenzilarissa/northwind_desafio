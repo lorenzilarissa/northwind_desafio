{
 "cells": [
  {
   "cell_type": "code",
   "execution_count": 2,
   "metadata": {},
   "outputs": [
    {
     "name": "stdout",
     "output_type": "stream",
     "text": [
      "Defaulting to user installation because normal site-packages is not writeable\n",
      "Requirement already satisfied: dbt-postgres in c:\\users\\larissalorenzi\\appdata\\local\\packages\\pythonsoftwarefoundation.python.3.12_qbz5n2kfra8p0\\localcache\\local-packages\\python312\\site-packages (1.9.0)\n",
      "Requirement already satisfied: agate<2.0,>=1.0 in c:\\users\\larissalorenzi\\appdata\\local\\packages\\pythonsoftwarefoundation.python.3.12_qbz5n2kfra8p0\\localcache\\local-packages\\python312\\site-packages (from dbt-postgres) (1.9.1)\n",
      "Requirement already satisfied: dbt-adapters<2.0,>=1.7.0 in c:\\users\\larissalorenzi\\appdata\\local\\packages\\pythonsoftwarefoundation.python.3.12_qbz5n2kfra8p0\\localcache\\local-packages\\python312\\site-packages (from dbt-postgres) (1.10.4)\n",
      "Requirement already satisfied: dbt-common<2.0,>=1.0.4 in c:\\users\\larissalorenzi\\appdata\\local\\packages\\pythonsoftwarefoundation.python.3.12_qbz5n2kfra8p0\\localcache\\local-packages\\python312\\site-packages (from dbt-postgres) (1.14.0)\n",
      "Requirement already satisfied: dbt-core>=1.8.0 in c:\\users\\larissalorenzi\\appdata\\local\\packages\\pythonsoftwarefoundation.python.3.12_qbz5n2kfra8p0\\localcache\\local-packages\\python312\\site-packages (from dbt-postgres) (1.9.0)\n",
      "Requirement already satisfied: psycopg2-binary<3.0,>=2.9 in c:\\users\\larissalorenzi\\appdata\\local\\packages\\pythonsoftwarefoundation.python.3.12_qbz5n2kfra8p0\\localcache\\local-packages\\python312\\site-packages (from dbt-postgres) (2.9.10)\n",
      "Requirement already satisfied: Babel>=2.0 in c:\\users\\larissalorenzi\\appdata\\local\\packages\\pythonsoftwarefoundation.python.3.12_qbz5n2kfra8p0\\localcache\\local-packages\\python312\\site-packages (from agate<2.0,>=1.0->dbt-postgres) (2.16.0)\n",
      "Requirement already satisfied: isodate>=0.5.4 in c:\\users\\larissalorenzi\\appdata\\local\\packages\\pythonsoftwarefoundation.python.3.12_qbz5n2kfra8p0\\localcache\\local-packages\\python312\\site-packages (from agate<2.0,>=1.0->dbt-postgres) (0.6.1)\n",
      "Requirement already satisfied: leather>=0.3.2 in c:\\users\\larissalorenzi\\appdata\\local\\packages\\pythonsoftwarefoundation.python.3.12_qbz5n2kfra8p0\\localcache\\local-packages\\python312\\site-packages (from agate<2.0,>=1.0->dbt-postgres) (0.4.0)\n",
      "Requirement already satisfied: parsedatetime!=2.5,>=2.1 in c:\\users\\larissalorenzi\\appdata\\local\\packages\\pythonsoftwarefoundation.python.3.12_qbz5n2kfra8p0\\localcache\\local-packages\\python312\\site-packages (from agate<2.0,>=1.0->dbt-postgres) (2.6)\n",
      "Requirement already satisfied: python-slugify>=1.2.1 in c:\\users\\larissalorenzi\\appdata\\local\\packages\\pythonsoftwarefoundation.python.3.12_qbz5n2kfra8p0\\localcache\\local-packages\\python312\\site-packages (from agate<2.0,>=1.0->dbt-postgres) (8.0.4)\n",
      "Requirement already satisfied: pytimeparse>=1.1.5 in c:\\users\\larissalorenzi\\appdata\\local\\packages\\pythonsoftwarefoundation.python.3.12_qbz5n2kfra8p0\\localcache\\local-packages\\python312\\site-packages (from agate<2.0,>=1.0->dbt-postgres) (1.1.8)\n",
      "Requirement already satisfied: tzdata>=2023.3 in c:\\users\\larissalorenzi\\appdata\\local\\packages\\pythonsoftwarefoundation.python.3.12_qbz5n2kfra8p0\\localcache\\local-packages\\python312\\site-packages (from agate<2.0,>=1.0->dbt-postgres) (2024.2)\n",
      "Requirement already satisfied: mashumaro<3.15,>=3.9 in c:\\users\\larissalorenzi\\appdata\\local\\packages\\pythonsoftwarefoundation.python.3.12_qbz5n2kfra8p0\\localcache\\local-packages\\python312\\site-packages (from mashumaro[msgpack]<3.15,>=3.9->dbt-adapters<2.0,>=1.7.0->dbt-postgres) (3.14)\n",
      "Requirement already satisfied: protobuf<6.0,>=5.0 in c:\\users\\larissalorenzi\\appdata\\local\\packages\\pythonsoftwarefoundation.python.3.12_qbz5n2kfra8p0\\localcache\\local-packages\\python312\\site-packages (from dbt-adapters<2.0,>=1.7.0->dbt-postgres) (5.29.1)\n",
      "Requirement already satisfied: pytz>=2015.7 in c:\\users\\larissalorenzi\\appdata\\local\\packages\\pythonsoftwarefoundation.python.3.12_qbz5n2kfra8p0\\localcache\\local-packages\\python312\\site-packages (from dbt-adapters<2.0,>=1.7.0->dbt-postgres) (2024.2)\n",
      "Requirement already satisfied: typing-extensions<5.0,>=4.0 in c:\\users\\larissalorenzi\\appdata\\local\\packages\\pythonsoftwarefoundation.python.3.12_qbz5n2kfra8p0\\localcache\\local-packages\\python312\\site-packages (from dbt-adapters<2.0,>=1.7.0->dbt-postgres) (4.10.0)\n",
      "Requirement already satisfied: colorama<0.5,>=0.3.9 in c:\\users\\larissalorenzi\\appdata\\local\\packages\\pythonsoftwarefoundation.python.3.12_qbz5n2kfra8p0\\localcache\\local-packages\\python312\\site-packages (from dbt-common<2.0,>=1.0.4->dbt-postgres) (0.4.6)\n",
      "Requirement already satisfied: deepdiff<8.0,>=7.0 in c:\\users\\larissalorenzi\\appdata\\local\\packages\\pythonsoftwarefoundation.python.3.12_qbz5n2kfra8p0\\localcache\\local-packages\\python312\\site-packages (from dbt-common<2.0,>=1.0.4->dbt-postgres) (7.0.1)\n",
      "Requirement already satisfied: jinja2<4,>=3.1.3 in c:\\users\\larissalorenzi\\appdata\\local\\packages\\pythonsoftwarefoundation.python.3.12_qbz5n2kfra8p0\\localcache\\local-packages\\python312\\site-packages (from dbt-common<2.0,>=1.0.4->dbt-postgres) (3.1.4)\n",
      "Requirement already satisfied: jsonschema<5.0,>=4.0 in c:\\users\\larissalorenzi\\appdata\\local\\packages\\pythonsoftwarefoundation.python.3.12_qbz5n2kfra8p0\\localcache\\local-packages\\python312\\site-packages (from dbt-common<2.0,>=1.0.4->dbt-postgres) (4.23.0)\n",
      "Requirement already satisfied: pathspec<0.13,>=0.9 in c:\\users\\larissalorenzi\\appdata\\local\\packages\\pythonsoftwarefoundation.python.3.12_qbz5n2kfra8p0\\localcache\\local-packages\\python312\\site-packages (from dbt-common<2.0,>=1.0.4->dbt-postgres) (0.12.1)\n",
      "Requirement already satisfied: python-dateutil<3.0,>=2.0 in c:\\users\\larissalorenzi\\appdata\\local\\packages\\pythonsoftwarefoundation.python.3.12_qbz5n2kfra8p0\\localcache\\local-packages\\python312\\site-packages (from dbt-common<2.0,>=1.0.4->dbt-postgres) (2.9.0.post0)\n",
      "Requirement already satisfied: requests<3.0.0 in c:\\users\\larissalorenzi\\appdata\\local\\packages\\pythonsoftwarefoundation.python.3.12_qbz5n2kfra8p0\\localcache\\local-packages\\python312\\site-packages (from dbt-common<2.0,>=1.0.4->dbt-postgres) (2.32.3)\n",
      "Requirement already satisfied: click<9.0,>=8.0.2 in c:\\users\\larissalorenzi\\appdata\\local\\packages\\pythonsoftwarefoundation.python.3.12_qbz5n2kfra8p0\\localcache\\local-packages\\python312\\site-packages (from dbt-core>=1.8.0->dbt-postgres) (8.1.7)\n",
      "Requirement already satisfied: networkx<4.0,>=2.3 in c:\\users\\larissalorenzi\\appdata\\local\\packages\\pythonsoftwarefoundation.python.3.12_qbz5n2kfra8p0\\localcache\\local-packages\\python312\\site-packages (from dbt-core>=1.8.0->dbt-postgres) (3.4.2)\n",
      "Requirement already satisfied: snowplow-tracker<2.0,>=1.0.2 in c:\\users\\larissalorenzi\\appdata\\local\\packages\\pythonsoftwarefoundation.python.3.12_qbz5n2kfra8p0\\localcache\\local-packages\\python312\\site-packages (from dbt-core>=1.8.0->dbt-postgres) (1.0.4)\n",
      "Requirement already satisfied: sqlparse<0.6.0,>=0.5.0 in c:\\users\\larissalorenzi\\appdata\\local\\packages\\pythonsoftwarefoundation.python.3.12_qbz5n2kfra8p0\\localcache\\local-packages\\python312\\site-packages (from dbt-core>=1.8.0->dbt-postgres) (0.5.3)\n",
      "Requirement already satisfied: dbt-extractor<=0.6,>=0.5.0 in c:\\users\\larissalorenzi\\appdata\\local\\packages\\pythonsoftwarefoundation.python.3.12_qbz5n2kfra8p0\\localcache\\local-packages\\python312\\site-packages (from dbt-core>=1.8.0->dbt-postgres) (0.5.1)\n",
      "Requirement already satisfied: dbt-semantic-interfaces<0.8,>=0.7.4 in c:\\users\\larissalorenzi\\appdata\\local\\packages\\pythonsoftwarefoundation.python.3.12_qbz5n2kfra8p0\\localcache\\local-packages\\python312\\site-packages (from dbt-core>=1.8.0->dbt-postgres) (0.7.4)\n",
      "Requirement already satisfied: packaging>20.9 in c:\\users\\larissalorenzi\\appdata\\local\\packages\\pythonsoftwarefoundation.python.3.12_qbz5n2kfra8p0\\localcache\\local-packages\\python312\\site-packages (from dbt-core>=1.8.0->dbt-postgres) (24.2)\n",
      "Requirement already satisfied: pyyaml>=6.0 in c:\\users\\larissalorenzi\\appdata\\local\\packages\\pythonsoftwarefoundation.python.3.12_qbz5n2kfra8p0\\localcache\\local-packages\\python312\\site-packages (from dbt-core>=1.8.0->dbt-postgres) (6.0.2)\n",
      "Requirement already satisfied: daff>=1.3.46 in c:\\users\\larissalorenzi\\appdata\\local\\packages\\pythonsoftwarefoundation.python.3.12_qbz5n2kfra8p0\\localcache\\local-packages\\python312\\site-packages (from dbt-core>=1.8.0->dbt-postgres) (1.3.46)\n",
      "Requirement already satisfied: importlib-metadata<7,>=6.0 in c:\\users\\larissalorenzi\\appdata\\local\\packages\\pythonsoftwarefoundation.python.3.12_qbz5n2kfra8p0\\localcache\\local-packages\\python312\\site-packages (from dbt-semantic-interfaces<0.8,>=0.7.4->dbt-core>=1.8.0->dbt-postgres) (6.11.0)\n",
      "Requirement already satisfied: more-itertools<11.0,>=8.0 in c:\\users\\larissalorenzi\\appdata\\local\\packages\\pythonsoftwarefoundation.python.3.12_qbz5n2kfra8p0\\localcache\\local-packages\\python312\\site-packages (from dbt-semantic-interfaces<0.8,>=0.7.4->dbt-core>=1.8.0->dbt-postgres) (10.5.0)\n",
      "Requirement already satisfied: pydantic<3,>=1.10 in c:\\users\\larissalorenzi\\appdata\\local\\packages\\pythonsoftwarefoundation.python.3.12_qbz5n2kfra8p0\\localcache\\local-packages\\python312\\site-packages (from dbt-semantic-interfaces<0.8,>=0.7.4->dbt-core>=1.8.0->dbt-postgres) (2.6.3)\n",
      "Requirement already satisfied: ordered-set<4.2.0,>=4.1.0 in c:\\users\\larissalorenzi\\appdata\\local\\packages\\pythonsoftwarefoundation.python.3.12_qbz5n2kfra8p0\\localcache\\local-packages\\python312\\site-packages (from deepdiff<8.0,>=7.0->dbt-common<2.0,>=1.0.4->dbt-postgres) (4.1.0)\n",
      "Requirement already satisfied: six in c:\\users\\larissalorenzi\\appdata\\local\\packages\\pythonsoftwarefoundation.python.3.12_qbz5n2kfra8p0\\localcache\\local-packages\\python312\\site-packages (from isodate>=0.5.4->agate<2.0,>=1.0->dbt-postgres) (1.17.0)\n",
      "Requirement already satisfied: MarkupSafe>=2.0 in c:\\users\\larissalorenzi\\appdata\\local\\packages\\pythonsoftwarefoundation.python.3.12_qbz5n2kfra8p0\\localcache\\local-packages\\python312\\site-packages (from jinja2<4,>=3.1.3->dbt-common<2.0,>=1.0.4->dbt-postgres) (3.0.2)\n",
      "Requirement already satisfied: attrs>=22.2.0 in c:\\users\\larissalorenzi\\appdata\\local\\packages\\pythonsoftwarefoundation.python.3.12_qbz5n2kfra8p0\\localcache\\local-packages\\python312\\site-packages (from jsonschema<5.0,>=4.0->dbt-common<2.0,>=1.0.4->dbt-postgres) (24.2.0)\n",
      "Requirement already satisfied: jsonschema-specifications>=2023.03.6 in c:\\users\\larissalorenzi\\appdata\\local\\packages\\pythonsoftwarefoundation.python.3.12_qbz5n2kfra8p0\\localcache\\local-packages\\python312\\site-packages (from jsonschema<5.0,>=4.0->dbt-common<2.0,>=1.0.4->dbt-postgres) (2024.10.1)\n",
      "Requirement already satisfied: referencing>=0.28.4 in c:\\users\\larissalorenzi\\appdata\\local\\packages\\pythonsoftwarefoundation.python.3.12_qbz5n2kfra8p0\\localcache\\local-packages\\python312\\site-packages (from jsonschema<5.0,>=4.0->dbt-common<2.0,>=1.0.4->dbt-postgres) (0.35.1)\n",
      "Requirement already satisfied: rpds-py>=0.7.1 in c:\\users\\larissalorenzi\\appdata\\local\\packages\\pythonsoftwarefoundation.python.3.12_qbz5n2kfra8p0\\localcache\\local-packages\\python312\\site-packages (from jsonschema<5.0,>=4.0->dbt-common<2.0,>=1.0.4->dbt-postgres) (0.22.3)\n",
      "Requirement already satisfied: msgpack>=0.5.6 in c:\\users\\larissalorenzi\\appdata\\local\\packages\\pythonsoftwarefoundation.python.3.12_qbz5n2kfra8p0\\localcache\\local-packages\\python312\\site-packages (from mashumaro[msgpack]<3.15,>=3.9->dbt-adapters<2.0,>=1.7.0->dbt-postgres) (1.1.0)\n",
      "Requirement already satisfied: text-unidecode>=1.3 in c:\\users\\larissalorenzi\\appdata\\local\\packages\\pythonsoftwarefoundation.python.3.12_qbz5n2kfra8p0\\localcache\\local-packages\\python312\\site-packages (from python-slugify>=1.2.1->agate<2.0,>=1.0->dbt-postgres) (1.3)\n",
      "Requirement already satisfied: charset-normalizer<4,>=2 in c:\\users\\larissalorenzi\\appdata\\local\\packages\\pythonsoftwarefoundation.python.3.12_qbz5n2kfra8p0\\localcache\\local-packages\\python312\\site-packages (from requests<3.0.0->dbt-common<2.0,>=1.0.4->dbt-postgres) (3.4.0)\n",
      "Requirement already satisfied: idna<4,>=2.5 in c:\\users\\larissalorenzi\\appdata\\local\\packages\\pythonsoftwarefoundation.python.3.12_qbz5n2kfra8p0\\localcache\\local-packages\\python312\\site-packages (from requests<3.0.0->dbt-common<2.0,>=1.0.4->dbt-postgres) (3.6)\n",
      "Requirement already satisfied: urllib3<3,>=1.21.1 in c:\\users\\larissalorenzi\\appdata\\local\\packages\\pythonsoftwarefoundation.python.3.12_qbz5n2kfra8p0\\localcache\\local-packages\\python312\\site-packages (from requests<3.0.0->dbt-common<2.0,>=1.0.4->dbt-postgres) (2.2.3)\n",
      "Requirement already satisfied: certifi>=2017.4.17 in c:\\users\\larissalorenzi\\appdata\\local\\packages\\pythonsoftwarefoundation.python.3.12_qbz5n2kfra8p0\\localcache\\local-packages\\python312\\site-packages (from requests<3.0.0->dbt-common<2.0,>=1.0.4->dbt-postgres) (2024.2.2)\n",
      "Requirement already satisfied: types-requests<3.0,>=2.25.1 in c:\\users\\larissalorenzi\\appdata\\local\\packages\\pythonsoftwarefoundation.python.3.12_qbz5n2kfra8p0\\localcache\\local-packages\\python312\\site-packages (from snowplow-tracker<2.0,>=1.0.2->dbt-core>=1.8.0->dbt-postgres) (2.32.0.20241016)\n",
      "Requirement already satisfied: zipp>=0.5 in c:\\users\\larissalorenzi\\appdata\\local\\packages\\pythonsoftwarefoundation.python.3.12_qbz5n2kfra8p0\\localcache\\local-packages\\python312\\site-packages (from importlib-metadata<7,>=6.0->dbt-semantic-interfaces<0.8,>=0.7.4->dbt-core>=1.8.0->dbt-postgres) (3.21.0)\n",
      "Requirement already satisfied: annotated-types>=0.4.0 in c:\\users\\larissalorenzi\\appdata\\local\\packages\\pythonsoftwarefoundation.python.3.12_qbz5n2kfra8p0\\localcache\\local-packages\\python312\\site-packages (from pydantic<3,>=1.10->dbt-semantic-interfaces<0.8,>=0.7.4->dbt-core>=1.8.0->dbt-postgres) (0.6.0)\n",
      "Requirement already satisfied: pydantic-core==2.16.3 in c:\\users\\larissalorenzi\\appdata\\local\\packages\\pythonsoftwarefoundation.python.3.12_qbz5n2kfra8p0\\localcache\\local-packages\\python312\\site-packages (from pydantic<3,>=1.10->dbt-semantic-interfaces<0.8,>=0.7.4->dbt-core>=1.8.0->dbt-postgres) (2.16.3)\n",
      "Note: you may need to restart the kernel to use updated packages.\n"
     ]
    }
   ],
   "source": [
    "pip install dbt-postgres"
   ]
  },
  {
   "cell_type": "code",
   "execution_count": 13,
   "metadata": {},
   "outputs": [
    {
     "name": "stdout",
     "output_type": "stream",
     "text": [
      "\u001b[0m19:12:45  Running with dbt=1.9.0\n",
      "\u001b[0m19:12:45  dbt version: 1.9.0\n",
      "\u001b[0m19:12:45  python version: 3.12.8\n",
      "\u001b[0m19:12:45  python path: C:\\Users\\larissalorenzi\\AppData\\Local\\Microsoft\\WindowsApps\\PythonSoftwareFoundation.Python.3.12_qbz5n2kfra8p0\\python.exe\n",
      "\u001b[0m19:12:45  os info: Windows-10-10.0.19045-SP0\n",
      "\u001b[0m19:12:45  Using profiles dir at C:\\Users\\larissalorenzi\\.dbt\n",
      "\u001b[0m19:12:45  Using profiles.yml file at C:\\Users\\larissalorenzi\\.dbt\\profiles.yml\n",
      "\u001b[0m19:12:45  Using dbt_project.yml file at c:\\Users\\larissalorenzi\\Documents\\GitHub\\northwind_desafio\\notebooks\\dbt_project.yml\n",
      "\u001b[0m19:12:45  adapter type: postgres\n",
      "\u001b[0m19:12:45  adapter version: 1.9.0\n",
      "\u001b[0m19:12:45  Configuration:\n",
      "\u001b[0m19:12:45    profiles.yml file [\u001b[32mOK found and valid\u001b[0m]\n",
      "\u001b[0m19:12:45    dbt_project.yml file [\u001b[32mOK found and valid\u001b[0m]\n",
      "\u001b[0m19:12:45  Required dependencies:\n",
      "\u001b[0m19:12:45   - git [\u001b[32mOK found\u001b[0m]\n",
      "\n",
      "\u001b[0m19:12:45  Connection:\n",
      "\u001b[0m19:12:45    host: localhost\n",
      "\u001b[0m19:12:45    port: 5432\n",
      "\u001b[0m19:12:45    user: postgres\n",
      "\u001b[0m19:12:45    database: northwind\n",
      "\u001b[0m19:12:45    schema: public\n",
      "\u001b[0m19:12:45    connect_timeout: 10\n",
      "\u001b[0m19:12:45    role: None\n",
      "\u001b[0m19:12:45    search_path: None\n",
      "\u001b[0m19:12:45    keepalives_idle: 0\n",
      "\u001b[0m19:12:45    sslmode: None\n",
      "\u001b[0m19:12:45    sslcert: None\n",
      "\u001b[0m19:12:45    sslkey: None\n",
      "\u001b[0m19:12:45    sslrootcert: None\n",
      "\u001b[0m19:12:45    application_name: dbt\n",
      "\u001b[0m19:12:45    retries: 1\n",
      "\u001b[0m19:12:45  Registered adapter: postgres=1.9.0\n",
      "\u001b[0m19:12:49    Connection test: [\u001b[32mOK connection ok\u001b[0m]\n",
      "\n",
      "\u001b[0m19:12:49  \u001b[32mAll checks passed!\u001b[0m\n"
     ]
    }
   ],
   "source": [
    "!dbt debug"
   ]
  },
  {
   "cell_type": "code",
   "execution_count": null,
   "metadata": {},
   "outputs": [
    {
     "name": "stderr",
     "output_type": "stream",
     "text": [
      "A sintaxe do comando est� incorreta.\n"
     ]
    }
   ],
   "source": []
  },
  {
   "cell_type": "code",
   "execution_count": null,
   "metadata": {},
   "outputs": [],
   "source": []
  }
 ],
 "metadata": {
  "kernelspec": {
   "display_name": "Python 3",
   "language": "python",
   "name": "python3"
  },
  "language_info": {
   "codemirror_mode": {
    "name": "ipython",
    "version": 3
   },
   "file_extension": ".py",
   "mimetype": "text/x-python",
   "name": "python",
   "nbconvert_exporter": "python",
   "pygments_lexer": "ipython3",
   "version": "3.12.8"
  }
 },
 "nbformat": 4,
 "nbformat_minor": 2
}

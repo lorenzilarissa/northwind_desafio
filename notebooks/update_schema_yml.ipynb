{
 "cells": [
  {
   "cell_type": "code",
   "execution_count": 1,
   "metadata": {},
   "outputs": [],
   "source": [
    "import os\n",
    "import yaml\n",
    "import pandas as pd\n",
    "from openai import ChatCompletion"
   ]
  },
  {
   "cell_type": "code",
   "execution_count": 2,
   "metadata": {},
   "outputs": [],
   "source": [
    "# Função para carregar o schema.yml existente\n",
    "def load_schema(file_path):\n",
    "    if os.path.exists(file_path):\n",
    "        with open(file_path, \"r\") as f:\n",
    "            return yaml.safe_load(f)\n",
    "    return {\"version\": 2, \"models\": []}\n",
    "\n",
    "# Função para salvar o schema atualizado\n",
    "def save_schema(file_path, schema):\n",
    "    with open(file_path, \"w\") as f:\n",
    "        yaml.dump(schema, f, sort_keys=False)\n",
    "\n",
    "# Função para gerar descrições automáticas\n",
    "\n",
    "def generate_description(column_name):\n",
    "    prompt = f\"Descreva de forma breve e objetiva o significado da coluna '{column_name}' em uma tabela de banco de dados.\"\n",
    "    response = ChatCompletion.create(\n",
    "        model=\"gpt-3.5-turbo\",\n",
    "        messages=[\n",
    "            {\"role\": \"system\", \"content\": \"Você é um assistente que gera descrições curtas para colunas de tabelas.\"},\n",
    "            {\"role\": \"user\", \"content\": prompt}\n",
    "        ]\n",
    "    )\n",
    "    return response[\"choices\"][0][\"message\"][\"content\"].strip()\n",
    "\n",
    "# Função principal para atualizar schema.yml\n",
    "def update_schema_yml(schema_path, folder_path):\n",
    "    schema = load_schema(schema_path)\n",
    "    existing_models = {model[\"name\"]: model for model in schema[\"models\"]}\n",
    "    \n",
    "    # Identificar arquivos .sql no diretório\n",
    "    sql_files = [f for f in os.listdir(folder_path) if f.endswith(\".sql\")]\n",
    "    new_models = []\n",
    "\n",
    "    for sql_file in sql_files:\n",
    "        model_name = sql_file.replace(\".sql\", \"\")\n",
    "        model_path = os.path.join(folder_path, sql_file)\n",
    "        \n",
    "        # Ler colunas a partir da tabela\n",
    "        with open(model_path, \"r\") as f:\n",
    "            lines = f.readlines()\n",
    "        columns = [line.split()[0].replace(\",\", \"\") for line in lines if \" as \" in line.lower()]\n",
    "\n",
    "        # Adicionar modelo ao schema\n",
    "        if model_name not in existing_models:\n",
    "            new_model = {\n",
    "                \"name\": model_name,\n",
    "                \"description\": f\"Descrição automática gerada para a tabela {model_name}.\",\n",
    "                \"columns\": [\n",
    "                    {\n",
    "                        \"name\": column,\n",
    "                        \"description\": generate_description(column)\n",
    "                    }\n",
    "                    for column in columns\n",
    "                ]\n",
    "            }\n",
    "            new_models.append(new_model)\n",
    "\n",
    "    # Atualizar schema existente\n",
    "    schema[\"models\"] = new_models\n",
    "    save_schema(schema_path, schema)\n"
   ]
  },
  {
   "cell_type": "code",
   "execution_count": 4,
   "metadata": {},
   "outputs": [],
   "source": [
    "# Paths for your schema.yml files and SQL folders\n",
    "core_schema_path = \"C:/Users/larissalorenzi/Documents/GitHub/northwind_desafio/models/core/schema.yml\"\n",
    "stage_schema_path = \"C:/Users/larissalorenzi/Documents/GitHub/northwind_desafio/models/stage/schema.yml\"\n",
    "core_sql_folder = \"C:/Users/larissalorenzi/Documents/GitHub/northwind_desafio/models/core\"\n",
    "stage_sql_folder = \"C:/Users/larissalorenzi/Documents/GitHub/northwind_desafio/models/stage\""
   ]
  },
  {
   "cell_type": "code",
   "execution_count": 5,
   "metadata": {},
   "outputs": [
    {
     "name": "stdout",
     "output_type": "stream",
     "text": [
      "Schemas updated successfully.\n"
     ]
    }
   ],
   "source": [
    "# Update the schemas\n",
    "update_schema(core_schema_path, core_sql_folder)\n",
    "update_schema(stage_schema_path, stage_sql_folder)\n",
    "print(\"Schemas updated successfully.\")"
   ]
  },
  {
   "cell_type": "code",
   "execution_count": null,
   "metadata": {},
   "outputs": [],
   "source": [
    "# Exemplo de uso\n",
    "schema_path = \"schema.yml\"  # Caminho para o arquivo schema.yml\n",
    "models_path = \"./models\"  # Caminho para a pasta com arquivos .sql\n",
    "update_schema_yml(schema_path, models_path)"
   ]
  },
  {
   "cell_type": "code",
   "execution_count": null,
   "metadata": {},
   "outputs": [],
   "source": []
  },
  {
   "cell_type": "code",
   "execution_count": null,
   "metadata": {},
   "outputs": [],
   "source": []
  },
  {
   "cell_type": "code",
   "execution_count": null,
   "metadata": {},
   "outputs": [],
   "source": []
  }
 ],
 "metadata": {
  "kernelspec": {
   "display_name": "Python 3",
   "language": "python",
   "name": "python3"
  },
  "language_info": {
   "codemirror_mode": {
    "name": "ipython",
    "version": 3
   },
   "file_extension": ".py",
   "mimetype": "text/x-python",
   "name": "python",
   "nbconvert_exporter": "python",
   "pygments_lexer": "ipython3",
   "version": "3.12.8"
  }
 },
 "nbformat": 4,
 "nbformat_minor": 2
}
